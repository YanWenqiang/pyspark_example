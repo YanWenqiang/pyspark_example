{
 "cells": [
  {
   "cell_type": "code",
   "execution_count": 1,
   "metadata": {},
   "outputs": [],
   "source": [
    "import sys\n",
    "import findspark\n",
    "findspark.init('/opt/spark')\n",
    "import pyspark\n",
    "from urllib.parse import unquote\n",
    "import re\n",
    "import datetime as dt\n",
    "sc = pyspark.SparkContext(appName=\"test\", master='local')"
   ]
  },
  {
   "cell_type": "code",
   "execution_count": 3,
   "metadata": {},
   "outputs": [],
   "source": [
    "pickle_path = \"viewfs://nsX/user/dmplt/yanwenqiang/test\"\n",
    "dataRdd = sc.pickleFile(pickle_path)\n",
    "data = dataRdd.collect()"
   ]
  },
  {
   "cell_type": "code",
   "execution_count": 5,
   "metadata": {},
   "outputs": [
    {
     "data": {
      "text/plain": [
       "{'query': '股票游资是什么意思',\n",
       " 'words': ['什么'],\n",
       " 'vrids': ['80020033',\n",
       "  '30000000',\n",
       "  '30010208',\n",
       "  '30000909',\n",
       "  '30000000',\n",
       "  '11000404',\n",
       "  '30010081',\n",
       "  '30000000',\n",
       "  '30000000',\n",
       "  '30010097',\n",
       "  '30000000',\n",
       "  '30000202'],\n",
       " 'count': 1}"
      ]
     },
     "execution_count": 5,
     "metadata": {},
     "output_type": "execute_result"
    }
   ],
   "source": [
    "data[0]"
   ]
  },
  {
   "cell_type": "code",
   "execution_count": 6,
   "metadata": {},
   "outputs": [
    {
     "name": "stdout",
     "output_type": "stream",
     "text": [
      "/search/odin/andrew/FamilyDoctor/jianghao\n"
     ]
    }
   ],
   "source": [
    "!pwd"
   ]
  },
  {
   "cell_type": "code",
   "execution_count": null,
   "metadata": {},
   "outputs": [],
   "source": []
  }
 ],
 "metadata": {
  "kernelspec": {
   "display_name": "python36",
   "language": "python",
   "name": "python36"
  },
  "language_info": {
   "codemirror_mode": {
    "name": "ipython",
    "version": 3
   },
   "file_extension": ".py",
   "mimetype": "text/x-python",
   "name": "python",
   "nbconvert_exporter": "python",
   "pygments_lexer": "ipython3",
   "version": "3.6.4"
  }
 },
 "nbformat": 4,
 "nbformat_minor": 2
}
